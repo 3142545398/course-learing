{
 "cells": [
  {
   "cell_type": "code",
   "execution_count": null,
   "id": "895d527e-652e-4b9c-8cdb-0d38d2d43c92",
   "metadata": {},
   "outputs": [],
   "source": [
    "import os\n",
    "# os.environ['DEVICE_ID'] = '0'\n",
    "import numpy as np\n",
    "\n",
    "import mindspore as ms\n",
    "from mindspore import nn\n",
    "from mindspore import context\n",
    "\n",
    "# Ascend\n",
    "\n",
    "# 1.导入MindSpore模块和辅助模块\n",
    "context.set_context(mode=context.GRAPH_MODE, device_target=\"Ascend\")\n",
    "\n",
    "# 2.生成模拟数据\n",
    "x = np.arange(-5, 5, 0.3)[:32].reshape((32, 1))\n",
    "y = -5 * x + 0.1 * np.random.normal(loc=0.0, scale=20.0, size=x.shape)\n",
    "\n",
    "# 3.建模\n",
    "net = nn.Dense(1, 1)\n",
    "loss_fn = nn.loss.MSELoss()\n",
    "opt = nn.optim.SGD(net.trainable_params(), learning_rate=0.01)\n",
    "with_loss = nn.WithLossCell(net, loss_fn)\n",
    "train_step = nn.TrainOneStepCell(with_loss, opt).set_train()\n",
    "\n",
    "# 4.使用模拟数据训练模型\n",
    "for epoch in range(20):\n",
    "    loss = train_step(ms.Tensor(x, ms.float32), ms.Tensor(y, ms.float32))\n",
    "    print('epoch: {0}, loss is {1}'.format(epoch, loss))\n",
    "\n",
    "# 5.使用训练好的模型进行预测\n",
    "wb = [x.asnumpy() for x in net.trainable_params()]\n",
    "w, b = np.squeeze(wb[0]), np.squeeze(wb[1])\n",
    "print('The true linear function is y = -5 * x + 0.1')\n",
    "print('The trained linear model is y = {0} * x + {1}'.format(w, b))\n",
    "\n",
    "for i in range(-10, 11, 5):\n",
    "    print('x = {0}, predicted y = {1}'.format(i, net(ms.Tensor([[i]], ms.float32))))\n",
    "\n",
    "# 6.可视化\n",
    "from matplotlib import pyplot as plt\n",
    "%matplotlib inline\n",
    "plt.scatter(x, y, label='Samples')\n",
    "plt.plot(x, w * x + b, c='r', label='True function')\n",
    "plt.plot(x, -5 * x + 0.1, c='b', label='Trained model')\n",
    "plt.legend()"
   ]
  }
 ],
 "metadata": {
  "kernelspec": {
   "display_name": "MindSpore",
   "language": "python",
   "name": "mindspore"
  },
  "language_info": {
   "codemirror_mode": {
    "name": "ipython",
    "version": 3
   },
   "file_extension": ".py",
   "mimetype": "text/x-python",
   "name": "python",
   "nbconvert_exporter": "python",
   "pygments_lexer": "ipython3",
   "version": "3.7.6"
  }
 },
 "nbformat": 4,
 "nbformat_minor": 5
}
