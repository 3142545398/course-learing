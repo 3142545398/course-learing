{
 "cells": [
  {
   "cell_type": "code",
   "execution_count": 4,
   "id": "8b2604dc-897d-45f9-84f8-6807b6a4d8f8",
   "metadata": {},
   "outputs": [],
   "source": [
    "import mindspore.nn as nn\n",
    "#构建一个残差单元\n",
    "class basic_res(nn.Cell):\n",
    "    \"\"\"\n",
    "    需要设置的参数：\n",
    "    input_channels, output_channels, stride\n",
    "    \"\"\"\n",
    "    def __init__(self, input_channels, output_channels, stride = 1):\n",
    "        super(basic_res, self).__init__()\n",
    "        self.conv1 = nn.Conv2d(in_channels = input_channels, out_channels = output_channels, kernel_size = 3, stride = stride, pad_mode=\"same\")\n",
    "        self.bn = nn.BatchNorm2d(output_channels)\n",
    "        self.relu = nn.ReLU()\n",
    "        self.conv2 = nn.Conv2d(in_channels = output_channels, out_channels = output_channels, kernel_size = 3, stride = 1, pad_mode=\"same\") #第二个卷积层的步长都为1，不需要人为设置\n",
    "        self.downsample = nn.Conv2d(in_channels = input_channels, out_channels = output_channels, kernel_size = 1, stride = stride, pad_mode=\"same\") #保证残差的输入shape与残差输出shape相同\n",
    "    def construct(self, x):\n",
    "        out = self.conv1(x)\n",
    "        out = self.bn(out)\n",
    "        out = self.relu(out)\n",
    "        out = self.conv2(out)\n",
    "        identity = self.downsample(x)\n",
    "        \n",
    "        out = out + identity\n",
    "        out = self.relu(out)\n",
    "        \n",
    "        return out "
   ]
  },
  {
   "cell_type": "code",
   "execution_count": 5,
   "id": "b7883ef8-b54a-4835-a424-d23a5c33bdc5",
   "metadata": {},
   "outputs": [],
   "source": [
    "#堆叠残差单元构建成一个残差结构\n",
    "def build_res(input_channels, output_channels,blocks, stride = 1):\n",
    "    \n",
    "    res_build = nn.SequentialCell()\n",
    "    \n",
    "    res_build.append(basic_res(input_channels, output_channels, stride = stride)) #第一个残差单元步长会改变，为2，具有下采样功能\n",
    "    \n",
    "    for _ in range(1, blocks):\n",
    "        res_build.append(basic_res(output_channels, output_channels, stride = 1))#在一个残差结构里，除了第一个残差单元，后面步长均为1\n",
    "    \n",
    "    return res_build"
   ]
  },
  {
   "cell_type": "code",
   "execution_count": 6,
   "id": "42829d2b-7a1c-485c-918f-ec277e2007ac",
   "metadata": {},
   "outputs": [],
   "source": [
    "#构建残差网络\n",
    "from mindspore import nn\n",
    " \n",
    "class Resnet(nn.Cell):\n",
    "    \n",
    "    def __init__(self, layer_dims, num_classes):\n",
    "        super(Resnet, self).__init__()\n",
    "        \n",
    "        #输入层--对原始输入进行卷积池化等预处理\n",
    "        self.stem = nn.SequentialCell([nn.Conv2d(3, 64,  7, 2, pad_mode='same'),  \n",
    "                                nn.BatchNorm2d(64),      \n",
    "                                nn.ReLU(),       \n",
    "                                nn.MaxPool2d(3, 2, pad_mode='same')])\n",
    "        #隐藏层---残差结构、卷积\n",
    "        self.layer1 = build_res(64, 64, layer_dims[0])\n",
    "        self.layer2 = build_res(64, 128, layer_dims[1], 2)\n",
    "        self.layer3 = build_res(128, 256, layer_dims[2], 2)\n",
    "        self.layer4 = build_res(256, 512, layer_dims[3], 2)\n",
    "        \n",
    "        #平均池化\n",
    "        self.avgpool = nn.AvgPool2d(7, 1)\n",
    "        \n",
    "        #展开\n",
    "        self.flatten = nn.Flatten()\n",
    " \n",
    "        \n",
    "        #全连接\n",
    "        self.fc = nn.Dense(512, num_classes)\n",
    "        \n",
    "    def construct(self, x):\n",
    "        #输入层\n",
    "        out = self.stem(x)\n",
    "        \n",
    "        #隐藏层\n",
    "        out = self.layer1(out)\n",
    "        out = self.layer2(out)\n",
    "        out = self.layer3(out)\n",
    "        out = self.layer4(out)\n",
    "        \n",
    "        #输出层\n",
    "        out = self.avgpool(out)\n",
    "        out = self.flatten(out)\n",
    "        out = self.fc(out)\n",
    "        \n",
    "        return out      "
   ]
  },
  {
   "cell_type": "code",
   "execution_count": 20,
   "id": "5d5dc4eb-d691-4524-8852-520a22516096",
   "metadata": {},
   "outputs": [
    {
     "data": {
      "text/plain": [
       "Tensor(shape=[1, 10], dtype=Float32, value=\n",
       "[[-2.15314780e-10,  2.53866067e-10,  1.08013598e-10 ...  3.91784355e-10,  3.26666194e-10,  2.53374040e-11]])"
      ]
     },
     "execution_count": 20,
     "metadata": {},
     "output_type": "execute_result"
    }
   ],
   "source": [
    "from mindspore import context\n",
    "\n",
    "# 使用昇腾\n",
    "context.set_context(mode=context.GRAPH_MODE, device_target=\"Ascend\")\n",
    "\n",
    "\n",
    "#定义好每一个残差结构中残差单元数目\n",
    "layer_dims = [2,2,2,2]\n",
    "\n",
    "#建立测试数据\n",
    "from mindspore import Tensor\n",
    "from mindspore import numpy as np\n",
    "x = Tensor(np.ones([1,3,224,224]))\n",
    "\n",
    "#实例化网络\n",
    "resnet18 = Resnet(layer_dims, 10)\n",
    "#输入数据\n",
    "x_resnet18 = resnet18(x)\n",
    "x_resnet18"
   ]
  },
  {
   "cell_type": "code",
   "execution_count": null,
   "id": "1aa5b1c4-84d9-449a-9354-d9be77ebfcca",
   "metadata": {},
   "outputs": [],
   "source": [
    "import numpy as np\n",
    "from PIL import Image\n",
    "import mindspore\n",
    "import mindspore.ops as ops\n",
    "from mindspore import Tensor\n",
    " \n",
    "dic_ds_test = mnist_ds_test.create_dict_iterator(output_numpy = True) #创建迭代数据，返回字典类型，数据类型是数组\n",
    "ds_test = next(dic_ds_test)  #取创建好的迭代数据\n",
    " \n",
    "images_test = ds_test[\"image\"]  \n",
    "labels_test = ds_test[\"label\"]\n",
    " \n",
    "output = model.predict(Tensor(images_test))   #开始预测，返回一个每一类的预测分数\n",
    "pred_labels = ops.Argmax(output_type=mindspore.int32)(output)  #返回预测分数中最大值的索引，即预测值\n",
    " \n",
    " \n",
    "print(\"预测值 -- > \", pred_labels)  # 打印预测值\n",
    "print(\"真实值 -- > \", labels_test)  # 打印真实值\n",
    " \n",
    " \n",
    "batch_img = np.squeeze(images_test[0])\n",
    "for i in range(1, len(labels_test)):\n",
    "    batch_img = np.hstack((batch_img, np.squeeze(images_test[i])))  # 将一批图片水平拼接起来，方便下一步进行显示\n",
    "Image.fromarray((batch_img*255).astype('uint8'), mode= \"L\")  # 显示真实值"
   ]
  }
 ],
 "metadata": {
  "kernelspec": {
   "display_name": "MindSpore",
   "language": "python",
   "name": "mindspore"
  },
  "language_info": {
   "codemirror_mode": {
    "name": "ipython",
    "version": 3
   },
   "file_extension": ".py",
   "mimetype": "text/x-python",
   "name": "python",
   "nbconvert_exporter": "python",
   "pygments_lexer": "ipython3",
   "version": "3.7.10"
  }
 },
 "nbformat": 4,
 "nbformat_minor": 5
}
