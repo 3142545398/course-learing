{
 "cells": [
  {
   "cell_type": "code",
   "execution_count": 2,
   "metadata": {},
   "outputs": [],
   "source": [
    "# 加载并处理数据\n",
    "import numpy as np\n",
    "\n",
    "import mindspore as ms\n",
    "from mindspore import nn\n",
    "from mindspore import context\n",
    "\n",
    "# 使用昇腾\n",
    "context.set_context(mode=context.GRAPH_MODE, device_target=\"Ascend\")\n",
    "from mindvision.dataset import Mnist\n",
    "\n",
    "# 下载并处理MNIST数据集\n",
    "download_train = Mnist(path=\"./mnist\", split=\"train\", batch_size=32, repeat_num=1, shuffle=True, resize=32, download=True)\n",
    "\n",
    "download_eval = Mnist(path=\"./mnist\", split=\"test\", batch_size=32, resize=32, download=True)\n",
    "\n",
    "dataset_train = download_train.run()\n",
    "dataset_eval = download_eval.run()"
   ]
  },
  {
   "cell_type": "code",
   "execution_count": 3,
   "metadata": {},
   "outputs": [],
   "source": [
    "# 模型定义\n",
    "from mindvision.classification.models import lenet\n",
    "network = lenet(num_classes=10, pretrained=False)\n",
    "import mindspore.nn as nn\n",
    "net_loss = nn.SoftmaxCrossEntropyWithLogits(sparse=True, reduction='mean')# 定义损失函数\n",
    "net_opt = nn.Momentum(network.trainable_params(), learning_rate=0.01, momentum=0.9)# 定义优化器函数"
   ]
  },
  {
   "cell_type": "code",
   "execution_count": 5,
   "metadata": {},
   "outputs": [],
   "source": [
    "# 模型参数选择\n",
    "from mindspore.train.callback import ModelCheckpoint, CheckpointConfig\n",
    "\n",
    "config_ck = CheckpointConfig(save_checkpoint_steps=1875, keep_checkpoint_max=10)# 参数\n",
    "\n",
    "ckpoint = ModelCheckpoint(prefix=\"lenet\", directory=\"./lenet\", config=config_ck)# 模型保存"
   ]
  },
  {
   "cell_type": "code",
   "execution_count": 6,
   "metadata": {},
   "outputs": [
    {
     "name": "stdout",
     "output_type": "stream",
     "text": [
      "Epoch:[  0/ 10], step:[ 1875/ 1875], loss:[0.029/0.029], time:27643.994 ms, lr:0.01000\n",
      "Epoch time: 34126.287 ms, per step time: 18.201 ms, avg loss: 0.029\n",
      "Epoch:[  1/ 10], step:[ 1875/ 1875], loss:[0.132/0.132], time:2679.146 ms, lr:0.01000\n",
      "Epoch time: 2681.345 ms, per step time: 1.430 ms, avg loss: 0.132\n",
      "Epoch:[  2/ 10], step:[ 1875/ 1875], loss:[0.007/0.007], time:2677.285 ms, lr:0.01000\n",
      "Epoch time: 2681.066 ms, per step time: 1.430 ms, avg loss: 0.007\n",
      "Epoch:[  3/ 10], step:[ 1875/ 1875], loss:[0.025/0.025], time:3225.487 ms, lr:0.01000\n",
      "Epoch time: 3232.310 ms, per step time: 1.724 ms, avg loss: 0.025\n",
      "Epoch:[  4/ 10], step:[ 1875/ 1875], loss:[0.008/0.008], time:4067.102 ms, lr:0.01000\n",
      "Epoch time: 4072.405 ms, per step time: 2.172 ms, avg loss: 0.008\n",
      "Epoch:[  5/ 10], step:[ 1875/ 1875], loss:[0.048/0.048], time:4570.567 ms, lr:0.01000\n",
      "Epoch time: 4578.477 ms, per step time: 2.442 ms, avg loss: 0.048\n",
      "Epoch:[  6/ 10], step:[ 1875/ 1875], loss:[0.021/0.021], time:4990.024 ms, lr:0.01000\n",
      "Epoch time: 4995.357 ms, per step time: 2.664 ms, avg loss: 0.021\n",
      "Epoch:[  7/ 10], step:[ 1875/ 1875], loss:[0.000/0.000], time:2883.057 ms, lr:0.01000\n",
      "Epoch time: 2887.125 ms, per step time: 1.540 ms, avg loss: 0.000\n",
      "Epoch:[  8/ 10], step:[ 1875/ 1875], loss:[0.000/0.000], time:2934.092 ms, lr:0.01000\n",
      "Epoch time: 2938.446 ms, per step time: 1.567 ms, avg loss: 0.000\n",
      "Epoch:[  9/ 10], step:[ 1875/ 1875], loss:[0.004/0.004], time:2934.889 ms, lr:0.01000\n",
      "Epoch time: 2941.743 ms, per step time: 1.569 ms, avg loss: 0.004\n"
     ]
    }
   ],
   "source": [
    "# 训练模型\n",
    "from mindvision.engine.callback import LossMonitor\n",
    "from mindspore.train import Model\n",
    "\n",
    "# 初始化模型参数\n",
    "model = Model(network, loss_fn=net_loss, optimizer=net_opt, metrics={'accuracy'})\n",
    "\n",
    "# 训练网络模型，并保存为lenet-1_1875.ckpt文件\n",
    "model.train(10, dataset_train, callbacks=[ckpoint, LossMonitor(0.01, 1875)])"
   ]
  },
  {
   "cell_type": "code",
   "execution_count": 7,
   "metadata": {},
   "outputs": [
    {
     "name": "stdout",
     "output_type": "stream",
     "text": [
      "{'accuracy': 0.9883814102564102}\n"
     ]
    },
    {
     "data": {
      "text/plain": [
       "[]"
      ]
     },
     "execution_count": 7,
     "metadata": {},
     "output_type": "execute_result"
    }
   ],
   "source": [
    "acc = model.eval(dataset_eval)\n",
    "\n",
    "print(\"{}\".format(acc))\n",
    "from mindspore import load_checkpoint, load_param_into_net\n",
    "\n",
    "# 加载已经保存的用于测试的模型\n",
    "param_dict = load_checkpoint(\"./lenet/lenet-1_1875.ckpt\")\n",
    "# 加载参数到网络中\n",
    "load_param_into_net(network, param_dict)"
   ]
  },
  {
   "cell_type": "code",
   "execution_count": 11,
   "metadata": {},
   "outputs": [
    {
     "data": {
      "image/png": "[encoded data removed]",
      "text/plain": [
       "<Figure size 640x480 with 6 Axes>"
      ]
     },
     "metadata": {},
     "output_type": "display_data"
    },
    {
     "name": "stdout",
     "output_type": "stream",
     "text": [
      "Predicted: \"[1 1 9 3 9 0]\", Actual: \"[1 1 9 3 9 0]\"\n"
     ]
    }
   ],
   "source": [
    "\n",
    "# 模型验证（使用生成的模型进行单个图片数据的分类预测）\n",
    "import numpy as np\n",
    "from mindspore import Tensor\n",
    "import matplotlib.pyplot as plt\n",
    "\n",
    "mnist = Mnist(\"./mnist\", split=\"train\", batch_size=6, resize=32)\n",
    "dataset_infer = mnist.run()\n",
    "ds_test = dataset_infer.create_dict_iterator()\n",
    "data = next(ds_test)\n",
    "images = data[\"image\"].asnumpy()\n",
    "labels = data[\"label\"].asnumpy()\n",
    "\n",
    "plt.figure()\n",
    "for i in range(1, 7):\n",
    "    plt.subplot(2, 3, i)\n",
    "    plt.imshow(images[i-1][0], interpolation=\"None\", cmap=\"gray\")\n",
    "plt.show()\n",
    "\n",
    "# 使用函数model.predict预测image对应分类\n",
    "output = model.predict(Tensor(data['image']))\n",
    "predicted = np.argmax(output.asnumpy(), axis=1)\n",
    "\n",
    "# 输出预测分类与实际分类\n",
    "print(f'Predicted: \"{predicted}\", Actual: \"{labels}\"')"
   ]
  }
 ],
 "metadata": {
  "kernelspec": {
   "display_name": "MindSpore",
   "language": "python",
   "name": "mindspore"
  },
  "language_info": {
   "codemirror_mode": {
    "name": "ipython",
    "version": 3
   },
   "file_extension": ".py",
   "mimetype": "text/x-python",
   "name": "python",
   "nbconvert_exporter": "python",
   "pygments_lexer": "ipython3",
   "version": "3.7.10"
  }
 },
 "nbformat": 4,
 "nbformat_minor": 4
}
